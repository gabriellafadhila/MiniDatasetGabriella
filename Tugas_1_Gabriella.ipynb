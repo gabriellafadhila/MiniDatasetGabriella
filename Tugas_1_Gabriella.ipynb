{
  "nbformat": 4,
  "nbformat_minor": 0,
  "metadata": {
    "colab": {
      "provenance": [],
      "authorship_tag": "ABX9TyPsGosHhl1WvSmWdFTX4sjL",
      "include_colab_link": true
    },
    "kernelspec": {
      "name": "python3",
      "display_name": "Python 3"
    },
    "language_info": {
      "name": "python"
    }
  },
  "cells": [
    {
      "cell_type": "markdown",
      "metadata": {
        "id": "view-in-github",
        "colab_type": "text"
      },
      "source": [
        "<a href=\"https://colab.research.google.com/github/gabriellafadhila/MiniDatasetGabriella/blob/main/Tugas_1_Gabriella.ipynb\" target=\"_parent\"><img src=\"https://colab.research.google.com/assets/colab-badge.svg\" alt=\"Open In Colab\"/></a>"
      ]
    },
    {
      "cell_type": "markdown",
      "source": [
        "**MENGUPLOAD** **FILE**"
      ],
      "metadata": {
        "id": "lzFc27249EFS"
      }
    },
    {
      "cell_type": "code",
      "execution_count": 5,
      "metadata": {
        "id": "fsNOS9fkZhGg"
      },
      "outputs": [],
      "source": [
        "from google.colab import files\n",
        "import pandas as pd"
      ]
    },
    {
      "cell_type": "code",
      "source": [
        "# Mengunggah file\n",
        "uploaded = files.upload()"
      ],
      "metadata": {
        "colab": {
          "base_uri": "https://localhost:8080/",
          "height": 73
        },
        "id": "a9dlBCn4ek6Y",
        "outputId": "24324444-49e5-4994-8dc5-6a4445826b13"
      },
      "execution_count": 6,
      "outputs": [
        {
          "output_type": "display_data",
          "data": {
            "text/plain": [
              "<IPython.core.display.HTML object>"
            ],
            "text/html": [
              "\n",
              "     <input type=\"file\" id=\"files-7e5e881f-5725-43ff-ab99-c8929e30b572\" name=\"files[]\" multiple disabled\n",
              "        style=\"border:none\" />\n",
              "     <output id=\"result-7e5e881f-5725-43ff-ab99-c8929e30b572\">\n",
              "      Upload widget is only available when the cell has been executed in the\n",
              "      current browser session. Please rerun this cell to enable.\n",
              "      </output>\n",
              "      <script>// Copyright 2017 Google LLC\n",
              "//\n",
              "// Licensed under the Apache License, Version 2.0 (the \"License\");\n",
              "// you may not use this file except in compliance with the License.\n",
              "// You may obtain a copy of the License at\n",
              "//\n",
              "//      http://www.apache.org/licenses/LICENSE-2.0\n",
              "//\n",
              "// Unless required by applicable law or agreed to in writing, software\n",
              "// distributed under the License is distributed on an \"AS IS\" BASIS,\n",
              "// WITHOUT WARRANTIES OR CONDITIONS OF ANY KIND, either express or implied.\n",
              "// See the License for the specific language governing permissions and\n",
              "// limitations under the License.\n",
              "\n",
              "/**\n",
              " * @fileoverview Helpers for google.colab Python module.\n",
              " */\n",
              "(function(scope) {\n",
              "function span(text, styleAttributes = {}) {\n",
              "  const element = document.createElement('span');\n",
              "  element.textContent = text;\n",
              "  for (const key of Object.keys(styleAttributes)) {\n",
              "    element.style[key] = styleAttributes[key];\n",
              "  }\n",
              "  return element;\n",
              "}\n",
              "\n",
              "// Max number of bytes which will be uploaded at a time.\n",
              "const MAX_PAYLOAD_SIZE = 100 * 1024;\n",
              "\n",
              "function _uploadFiles(inputId, outputId) {\n",
              "  const steps = uploadFilesStep(inputId, outputId);\n",
              "  const outputElement = document.getElementById(outputId);\n",
              "  // Cache steps on the outputElement to make it available for the next call\n",
              "  // to uploadFilesContinue from Python.\n",
              "  outputElement.steps = steps;\n",
              "\n",
              "  return _uploadFilesContinue(outputId);\n",
              "}\n",
              "\n",
              "// This is roughly an async generator (not supported in the browser yet),\n",
              "// where there are multiple asynchronous steps and the Python side is going\n",
              "// to poll for completion of each step.\n",
              "// This uses a Promise to block the python side on completion of each step,\n",
              "// then passes the result of the previous step as the input to the next step.\n",
              "function _uploadFilesContinue(outputId) {\n",
              "  const outputElement = document.getElementById(outputId);\n",
              "  const steps = outputElement.steps;\n",
              "\n",
              "  const next = steps.next(outputElement.lastPromiseValue);\n",
              "  return Promise.resolve(next.value.promise).then((value) => {\n",
              "    // Cache the last promise value to make it available to the next\n",
              "    // step of the generator.\n",
              "    outputElement.lastPromiseValue = value;\n",
              "    return next.value.response;\n",
              "  });\n",
              "}\n",
              "\n",
              "/**\n",
              " * Generator function which is called between each async step of the upload\n",
              " * process.\n",
              " * @param {string} inputId Element ID of the input file picker element.\n",
              " * @param {string} outputId Element ID of the output display.\n",
              " * @return {!Iterable<!Object>} Iterable of next steps.\n",
              " */\n",
              "function* uploadFilesStep(inputId, outputId) {\n",
              "  const inputElement = document.getElementById(inputId);\n",
              "  inputElement.disabled = false;\n",
              "\n",
              "  const outputElement = document.getElementById(outputId);\n",
              "  outputElement.innerHTML = '';\n",
              "\n",
              "  const pickedPromise = new Promise((resolve) => {\n",
              "    inputElement.addEventListener('change', (e) => {\n",
              "      resolve(e.target.files);\n",
              "    });\n",
              "  });\n",
              "\n",
              "  const cancel = document.createElement('button');\n",
              "  inputElement.parentElement.appendChild(cancel);\n",
              "  cancel.textContent = 'Cancel upload';\n",
              "  const cancelPromise = new Promise((resolve) => {\n",
              "    cancel.onclick = () => {\n",
              "      resolve(null);\n",
              "    };\n",
              "  });\n",
              "\n",
              "  // Wait for the user to pick the files.\n",
              "  const files = yield {\n",
              "    promise: Promise.race([pickedPromise, cancelPromise]),\n",
              "    response: {\n",
              "      action: 'starting',\n",
              "    }\n",
              "  };\n",
              "\n",
              "  cancel.remove();\n",
              "\n",
              "  // Disable the input element since further picks are not allowed.\n",
              "  inputElement.disabled = true;\n",
              "\n",
              "  if (!files) {\n",
              "    return {\n",
              "      response: {\n",
              "        action: 'complete',\n",
              "      }\n",
              "    };\n",
              "  }\n",
              "\n",
              "  for (const file of files) {\n",
              "    const li = document.createElement('li');\n",
              "    li.append(span(file.name, {fontWeight: 'bold'}));\n",
              "    li.append(span(\n",
              "        `(${file.type || 'n/a'}) - ${file.size} bytes, ` +\n",
              "        `last modified: ${\n",
              "            file.lastModifiedDate ? file.lastModifiedDate.toLocaleDateString() :\n",
              "                                    'n/a'} - `));\n",
              "    const percent = span('0% done');\n",
              "    li.appendChild(percent);\n",
              "\n",
              "    outputElement.appendChild(li);\n",
              "\n",
              "    const fileDataPromise = new Promise((resolve) => {\n",
              "      const reader = new FileReader();\n",
              "      reader.onload = (e) => {\n",
              "        resolve(e.target.result);\n",
              "      };\n",
              "      reader.readAsArrayBuffer(file);\n",
              "    });\n",
              "    // Wait for the data to be ready.\n",
              "    let fileData = yield {\n",
              "      promise: fileDataPromise,\n",
              "      response: {\n",
              "        action: 'continue',\n",
              "      }\n",
              "    };\n",
              "\n",
              "    // Use a chunked sending to avoid message size limits. See b/62115660.\n",
              "    let position = 0;\n",
              "    do {\n",
              "      const length = Math.min(fileData.byteLength - position, MAX_PAYLOAD_SIZE);\n",
              "      const chunk = new Uint8Array(fileData, position, length);\n",
              "      position += length;\n",
              "\n",
              "      const base64 = btoa(String.fromCharCode.apply(null, chunk));\n",
              "      yield {\n",
              "        response: {\n",
              "          action: 'append',\n",
              "          file: file.name,\n",
              "          data: base64,\n",
              "        },\n",
              "      };\n",
              "\n",
              "      let percentDone = fileData.byteLength === 0 ?\n",
              "          100 :\n",
              "          Math.round((position / fileData.byteLength) * 100);\n",
              "      percent.textContent = `${percentDone}% done`;\n",
              "\n",
              "    } while (position < fileData.byteLength);\n",
              "  }\n",
              "\n",
              "  // All done.\n",
              "  yield {\n",
              "    response: {\n",
              "      action: 'complete',\n",
              "    }\n",
              "  };\n",
              "}\n",
              "\n",
              "scope.google = scope.google || {};\n",
              "scope.google.colab = scope.google.colab || {};\n",
              "scope.google.colab._files = {\n",
              "  _uploadFiles,\n",
              "  _uploadFilesContinue,\n",
              "};\n",
              "})(self);\n",
              "</script> "
            ]
          },
          "metadata": {}
        },
        {
          "output_type": "stream",
          "name": "stdout",
          "text": [
            "Saving TittleSelection (1).csv to TittleSelection (1).csv\n"
          ]
        }
      ]
    },
    {
      "cell_type": "markdown",
      "source": [
        "**MEMBACA FILE**"
      ],
      "metadata": {
        "id": "oJnk383T9VXq"
      }
    },
    {
      "cell_type": "code",
      "source": [
        "# Membaca file CSV (gunakan nama file yang telah diunggah)\n",
        "file_name = list(uploaded.keys())[0]  # Ambil nama file yang diunggah\n",
        "df = pd.read_csv(file_name)"
      ],
      "metadata": {
        "id": "6Aw693yJep6c"
      },
      "execution_count": 7,
      "outputs": []
    },
    {
      "cell_type": "code",
      "source": [
        "# Menampilkan 5 baris pertama data\n",
        "print(df.head())"
      ],
      "metadata": {
        "colab": {
          "base_uri": "https://localhost:8080/"
        },
        "id": "HT_DYFoBetQx",
        "outputId": "51fb36ec-9c62-4bbe-d562-e4c6d052d933"
      },
      "execution_count": 8,
      "outputs": [
        {
          "output_type": "stream",
          "name": "stdout",
          "text": [
            "  type_of_reference                                            authors  \\\n",
            "0              JOUR  Kanbar, Lara J., Mishra, Anagh, Osborn, Alexan...   \n",
            "1              JOUR  Kazerouni, Ayaan M., Davis, James C., Basak, A...   \n",
            "2              JOUR                                   Biao, Zhang Zong   \n",
            "3              JOUR  Santos Vieira, Felipe Alexandre, Vinhas Santos...   \n",
            "4              JOUR                     Ling, Jintao, Afzaal, Muhammad   \n",
            "\n",
            "                                       primary_title title publication_year  \\\n",
            "0  Investigation of bias in the automated assessm...   NaN              NaN   \n",
            "1  Fast and accurate incremental feedback for stu...   NaN              NaN   \n",
            "2  Design and realization of data mining simulati...   NaN              NaN   \n",
            "3  Social media data reveals multiple cultural se...   NaN              NaN   \n",
            "4  Automatic question-answer pairs generation usi...   NaN              NaN   \n",
            "\n",
            "   year                                           abstract  \n",
            "0  2024  Objectives Natural language processing and mac...  \n",
            "1  2021  As incorporating software testing into program...  \n",
            "2  2023  Data mining in education is steadily gaining m...  \n",
            "3  2021  Cultural ecosystem services (CES) are benefits...  \n",
            "4  2024  The process of manually generating question an...  \n"
          ]
        }
      ]
    },
    {
      "cell_type": "markdown",
      "source": [
        "**MULAI PRE PROCESSING**"
      ],
      "metadata": {
        "id": "FdgnNz859eHf"
      }
    },
    {
      "cell_type": "code",
      "source": [
        "import re\n",
        "import nltk\n",
        "import numpy as np\n",
        "from nltk.corpus import stopwords\n",
        "from nltk.tokenize import word_tokenize\n",
        "from nltk.stem import WordNetLemmatizer"
      ],
      "metadata": {
        "id": "aO-akIMcg4q1"
      },
      "execution_count": 9,
      "outputs": []
    },
    {
      "cell_type": "code",
      "source": [
        "# Download resources\n",
        "nltk.download('punkt')\n",
        "nltk.download('stopwords')\n",
        "nltk.download('wordnet')\n",
        "nltk.download('punkt_tab')"
      ],
      "metadata": {
        "colab": {
          "base_uri": "https://localhost:8080/"
        },
        "id": "76_CSLLzg8bn",
        "outputId": "ae7e5885-dc10-46bb-fc1c-93064a69608f"
      },
      "execution_count": 10,
      "outputs": [
        {
          "output_type": "stream",
          "name": "stderr",
          "text": [
            "[nltk_data] Downloading package punkt to /root/nltk_data...\n",
            "[nltk_data]   Unzipping tokenizers/punkt.zip.\n",
            "[nltk_data] Downloading package stopwords to /root/nltk_data...\n",
            "[nltk_data]   Unzipping corpora/stopwords.zip.\n",
            "[nltk_data] Downloading package wordnet to /root/nltk_data...\n",
            "[nltk_data] Downloading package punkt_tab to /root/nltk_data...\n",
            "[nltk_data]   Unzipping tokenizers/punkt_tab.zip.\n"
          ]
        },
        {
          "output_type": "execute_result",
          "data": {
            "text/plain": [
              "True"
            ]
          },
          "metadata": {},
          "execution_count": 10
        }
      ]
    },
    {
      "cell_type": "code",
      "source": [
        "# Load CSV file\n",
        "df = pd.read_csv('/content/TittleSelection (1).csv')"
      ],
      "metadata": {
        "id": "u6VW4NHchALO"
      },
      "execution_count": 11,
      "outputs": []
    },
    {
      "cell_type": "code",
      "source": [
        "df"
      ],
      "metadata": {
        "colab": {
          "base_uri": "https://localhost:8080/",
          "height": 597
        },
        "id": "zP-9izCgJy-Q",
        "outputId": "e0da7d9d-d144-4969-daac-48daf03eb032"
      },
      "execution_count": 12,
      "outputs": [
        {
          "output_type": "execute_result",
          "data": {
            "text/plain": [
              "    type_of_reference                                            authors  \\\n",
              "0                JOUR  Kanbar, Lara J., Mishra, Anagh, Osborn, Alexan...   \n",
              "1                JOUR  Kazerouni, Ayaan M., Davis, James C., Basak, A...   \n",
              "2                JOUR                                   Biao, Zhang Zong   \n",
              "3                JOUR  Santos Vieira, Felipe Alexandre, Vinhas Santos...   \n",
              "4                JOUR                     Ling, Jintao, Afzaal, Muhammad   \n",
              "..                ...                                                ...   \n",
              "208              JOUR  Guzmán-Valdivia Gómez, Gilberto, Domínguez-Gon...   \n",
              "209              JOUR  ElNaka, Abdelrahman, Nael, Omar, Afifi, Hadeel...   \n",
              "210              JOUR  Whitelock-Wainwright, Alexander, Laan, Nathan,...   \n",
              "211              JOUR                 Wilson, Joshua, Rodrigues, Jessica   \n",
              "212              JOUR  Al-azani, Samah Ali, Namrata Mahender, C., Has...   \n",
              "\n",
              "                                         primary_title title publication_year  \\\n",
              "0    Investigation of bias in the automated assessm...   NaN              NaN   \n",
              "1    Fast and accurate incremental feedback for stu...   NaN              NaN   \n",
              "2    Design and realization of data mining simulati...   NaN              NaN   \n",
              "3    Social media data reveals multiple cultural se...   NaN              NaN   \n",
              "4    Automatic question-answer pairs generation usi...   NaN              NaN   \n",
              "..                                                 ...   ...              ...   \n",
              "208  Estrategia didáctica con estudios de casos par...   NaN              NaN   \n",
              "209  AraScore: Investigating Response-Based Arabic ...   NaN              NaN   \n",
              "210  Exploring student information problem solving ...   NaN              NaN   \n",
              "211  Classification accuracy and efficiency of writ...   NaN              NaN   \n",
              "212  Development of an Arabic HQAS-based ASAG to co...   NaN              NaN   \n",
              "\n",
              "     year                                           abstract  \n",
              "0    2024  Objectives Natural language processing and mac...  \n",
              "1    2021  As incorporating software testing into program...  \n",
              "2    2023  Data mining in education is steadily gaining m...  \n",
              "3    2021  Cultural ecosystem services (CES) are benefits...  \n",
              "4    2024  The process of manually generating question an...  \n",
              "..    ...                                                ...  \n",
              "208  2025  Resumen Introducción el razonamiento clínico s...  \n",
              "209  2021  There are more than 80 million students in the...  \n",
              "210  2020  For learners to be successful in an informatio...  \n",
              "211  2020  The present study leveraged advances in automa...  \n",
              "212  2022  Many traditional question answering systems de...  \n",
              "\n",
              "[213 rows x 7 columns]"
            ],
            "text/html": [
              "\n",
              "  <div id=\"df-97e208d3-a934-4e87-bbd9-d820f6110d96\" class=\"colab-df-container\">\n",
              "    <div>\n",
              "<style scoped>\n",
              "    .dataframe tbody tr th:only-of-type {\n",
              "        vertical-align: middle;\n",
              "    }\n",
              "\n",
              "    .dataframe tbody tr th {\n",
              "        vertical-align: top;\n",
              "    }\n",
              "\n",
              "    .dataframe thead th {\n",
              "        text-align: right;\n",
              "    }\n",
              "</style>\n",
              "<table border=\"1\" class=\"dataframe\">\n",
              "  <thead>\n",
              "    <tr style=\"text-align: right;\">\n",
              "      <th></th>\n",
              "      <th>type_of_reference</th>\n",
              "      <th>authors</th>\n",
              "      <th>primary_title</th>\n",
              "      <th>title</th>\n",
              "      <th>publication_year</th>\n",
              "      <th>year</th>\n",
              "      <th>abstract</th>\n",
              "    </tr>\n",
              "  </thead>\n",
              "  <tbody>\n",
              "    <tr>\n",
              "      <th>0</th>\n",
              "      <td>JOUR</td>\n",
              "      <td>Kanbar, Lara J., Mishra, Anagh, Osborn, Alexan...</td>\n",
              "      <td>Investigation of bias in the automated assessm...</td>\n",
              "      <td>NaN</td>\n",
              "      <td>NaN</td>\n",
              "      <td>2024</td>\n",
              "      <td>Objectives Natural language processing and mac...</td>\n",
              "    </tr>\n",
              "    <tr>\n",
              "      <th>1</th>\n",
              "      <td>JOUR</td>\n",
              "      <td>Kazerouni, Ayaan M., Davis, James C., Basak, A...</td>\n",
              "      <td>Fast and accurate incremental feedback for stu...</td>\n",
              "      <td>NaN</td>\n",
              "      <td>NaN</td>\n",
              "      <td>2021</td>\n",
              "      <td>As incorporating software testing into program...</td>\n",
              "    </tr>\n",
              "    <tr>\n",
              "      <th>2</th>\n",
              "      <td>JOUR</td>\n",
              "      <td>Biao, Zhang Zong</td>\n",
              "      <td>Design and realization of data mining simulati...</td>\n",
              "      <td>NaN</td>\n",
              "      <td>NaN</td>\n",
              "      <td>2023</td>\n",
              "      <td>Data mining in education is steadily gaining m...</td>\n",
              "    </tr>\n",
              "    <tr>\n",
              "      <th>3</th>\n",
              "      <td>JOUR</td>\n",
              "      <td>Santos Vieira, Felipe Alexandre, Vinhas Santos...</td>\n",
              "      <td>Social media data reveals multiple cultural se...</td>\n",
              "      <td>NaN</td>\n",
              "      <td>NaN</td>\n",
              "      <td>2021</td>\n",
              "      <td>Cultural ecosystem services (CES) are benefits...</td>\n",
              "    </tr>\n",
              "    <tr>\n",
              "      <th>4</th>\n",
              "      <td>JOUR</td>\n",
              "      <td>Ling, Jintao, Afzaal, Muhammad</td>\n",
              "      <td>Automatic question-answer pairs generation usi...</td>\n",
              "      <td>NaN</td>\n",
              "      <td>NaN</td>\n",
              "      <td>2024</td>\n",
              "      <td>The process of manually generating question an...</td>\n",
              "    </tr>\n",
              "    <tr>\n",
              "      <th>...</th>\n",
              "      <td>...</td>\n",
              "      <td>...</td>\n",
              "      <td>...</td>\n",
              "      <td>...</td>\n",
              "      <td>...</td>\n",
              "      <td>...</td>\n",
              "      <td>...</td>\n",
              "    </tr>\n",
              "    <tr>\n",
              "      <th>208</th>\n",
              "      <td>JOUR</td>\n",
              "      <td>Guzmán-Valdivia Gómez, Gilberto, Domínguez-Gon...</td>\n",
              "      <td>Estrategia didáctica con estudios de casos par...</td>\n",
              "      <td>NaN</td>\n",
              "      <td>NaN</td>\n",
              "      <td>2025</td>\n",
              "      <td>Resumen Introducción el razonamiento clínico s...</td>\n",
              "    </tr>\n",
              "    <tr>\n",
              "      <th>209</th>\n",
              "      <td>JOUR</td>\n",
              "      <td>ElNaka, Abdelrahman, Nael, Omar, Afifi, Hadeel...</td>\n",
              "      <td>AraScore: Investigating Response-Based Arabic ...</td>\n",
              "      <td>NaN</td>\n",
              "      <td>NaN</td>\n",
              "      <td>2021</td>\n",
              "      <td>There are more than 80 million students in the...</td>\n",
              "    </tr>\n",
              "    <tr>\n",
              "      <th>210</th>\n",
              "      <td>JOUR</td>\n",
              "      <td>Whitelock-Wainwright, Alexander, Laan, Nathan,...</td>\n",
              "      <td>Exploring student information problem solving ...</td>\n",
              "      <td>NaN</td>\n",
              "      <td>NaN</td>\n",
              "      <td>2020</td>\n",
              "      <td>For learners to be successful in an informatio...</td>\n",
              "    </tr>\n",
              "    <tr>\n",
              "      <th>211</th>\n",
              "      <td>JOUR</td>\n",
              "      <td>Wilson, Joshua, Rodrigues, Jessica</td>\n",
              "      <td>Classification accuracy and efficiency of writ...</td>\n",
              "      <td>NaN</td>\n",
              "      <td>NaN</td>\n",
              "      <td>2020</td>\n",
              "      <td>The present study leveraged advances in automa...</td>\n",
              "    </tr>\n",
              "    <tr>\n",
              "      <th>212</th>\n",
              "      <td>JOUR</td>\n",
              "      <td>Al-azani, Samah Ali, Namrata Mahender, C., Has...</td>\n",
              "      <td>Development of an Arabic HQAS-based ASAG to co...</td>\n",
              "      <td>NaN</td>\n",
              "      <td>NaN</td>\n",
              "      <td>2022</td>\n",
              "      <td>Many traditional question answering systems de...</td>\n",
              "    </tr>\n",
              "  </tbody>\n",
              "</table>\n",
              "<p>213 rows × 7 columns</p>\n",
              "</div>\n",
              "    <div class=\"colab-df-buttons\">\n",
              "\n",
              "  <div class=\"colab-df-container\">\n",
              "    <button class=\"colab-df-convert\" onclick=\"convertToInteractive('df-97e208d3-a934-4e87-bbd9-d820f6110d96')\"\n",
              "            title=\"Convert this dataframe to an interactive table.\"\n",
              "            style=\"display:none;\">\n",
              "\n",
              "  <svg xmlns=\"http://www.w3.org/2000/svg\" height=\"24px\" viewBox=\"0 -960 960 960\">\n",
              "    <path d=\"M120-120v-720h720v720H120Zm60-500h600v-160H180v160Zm220 220h160v-160H400v160Zm0 220h160v-160H400v160ZM180-400h160v-160H180v160Zm440 0h160v-160H620v160ZM180-180h160v-160H180v160Zm440 0h160v-160H620v160Z\"/>\n",
              "  </svg>\n",
              "    </button>\n",
              "\n",
              "  <style>\n",
              "    .colab-df-container {\n",
              "      display:flex;\n",
              "      gap: 12px;\n",
              "    }\n",
              "\n",
              "    .colab-df-convert {\n",
              "      background-color: #E8F0FE;\n",
              "      border: none;\n",
              "      border-radius: 50%;\n",
              "      cursor: pointer;\n",
              "      display: none;\n",
              "      fill: #1967D2;\n",
              "      height: 32px;\n",
              "      padding: 0 0 0 0;\n",
              "      width: 32px;\n",
              "    }\n",
              "\n",
              "    .colab-df-convert:hover {\n",
              "      background-color: #E2EBFA;\n",
              "      box-shadow: 0px 1px 2px rgba(60, 64, 67, 0.3), 0px 1px 3px 1px rgba(60, 64, 67, 0.15);\n",
              "      fill: #174EA6;\n",
              "    }\n",
              "\n",
              "    .colab-df-buttons div {\n",
              "      margin-bottom: 4px;\n",
              "    }\n",
              "\n",
              "    [theme=dark] .colab-df-convert {\n",
              "      background-color: #3B4455;\n",
              "      fill: #D2E3FC;\n",
              "    }\n",
              "\n",
              "    [theme=dark] .colab-df-convert:hover {\n",
              "      background-color: #434B5C;\n",
              "      box-shadow: 0px 1px 3px 1px rgba(0, 0, 0, 0.15);\n",
              "      filter: drop-shadow(0px 1px 2px rgba(0, 0, 0, 0.3));\n",
              "      fill: #FFFFFF;\n",
              "    }\n",
              "  </style>\n",
              "\n",
              "    <script>\n",
              "      const buttonEl =\n",
              "        document.querySelector('#df-97e208d3-a934-4e87-bbd9-d820f6110d96 button.colab-df-convert');\n",
              "      buttonEl.style.display =\n",
              "        google.colab.kernel.accessAllowed ? 'block' : 'none';\n",
              "\n",
              "      async function convertToInteractive(key) {\n",
              "        const element = document.querySelector('#df-97e208d3-a934-4e87-bbd9-d820f6110d96');\n",
              "        const dataTable =\n",
              "          await google.colab.kernel.invokeFunction('convertToInteractive',\n",
              "                                                    [key], {});\n",
              "        if (!dataTable) return;\n",
              "\n",
              "        const docLinkHtml = 'Like what you see? Visit the ' +\n",
              "          '<a target=\"_blank\" href=https://colab.research.google.com/notebooks/data_table.ipynb>data table notebook</a>'\n",
              "          + ' to learn more about interactive tables.';\n",
              "        element.innerHTML = '';\n",
              "        dataTable['output_type'] = 'display_data';\n",
              "        await google.colab.output.renderOutput(dataTable, element);\n",
              "        const docLink = document.createElement('div');\n",
              "        docLink.innerHTML = docLinkHtml;\n",
              "        element.appendChild(docLink);\n",
              "      }\n",
              "    </script>\n",
              "  </div>\n",
              "\n",
              "\n",
              "<div id=\"df-377e688b-f8cc-469b-a663-dd27749e6d97\">\n",
              "  <button class=\"colab-df-quickchart\" onclick=\"quickchart('df-377e688b-f8cc-469b-a663-dd27749e6d97')\"\n",
              "            title=\"Suggest charts\"\n",
              "            style=\"display:none;\">\n",
              "\n",
              "<svg xmlns=\"http://www.w3.org/2000/svg\" height=\"24px\"viewBox=\"0 0 24 24\"\n",
              "     width=\"24px\">\n",
              "    <g>\n",
              "        <path d=\"M19 3H5c-1.1 0-2 .9-2 2v14c0 1.1.9 2 2 2h14c1.1 0 2-.9 2-2V5c0-1.1-.9-2-2-2zM9 17H7v-7h2v7zm4 0h-2V7h2v10zm4 0h-2v-4h2v4z\"/>\n",
              "    </g>\n",
              "</svg>\n",
              "  </button>\n",
              "\n",
              "<style>\n",
              "  .colab-df-quickchart {\n",
              "      --bg-color: #E8F0FE;\n",
              "      --fill-color: #1967D2;\n",
              "      --hover-bg-color: #E2EBFA;\n",
              "      --hover-fill-color: #174EA6;\n",
              "      --disabled-fill-color: #AAA;\n",
              "      --disabled-bg-color: #DDD;\n",
              "  }\n",
              "\n",
              "  [theme=dark] .colab-df-quickchart {\n",
              "      --bg-color: #3B4455;\n",
              "      --fill-color: #D2E3FC;\n",
              "      --hover-bg-color: #434B5C;\n",
              "      --hover-fill-color: #FFFFFF;\n",
              "      --disabled-bg-color: #3B4455;\n",
              "      --disabled-fill-color: #666;\n",
              "  }\n",
              "\n",
              "  .colab-df-quickchart {\n",
              "    background-color: var(--bg-color);\n",
              "    border: none;\n",
              "    border-radius: 50%;\n",
              "    cursor: pointer;\n",
              "    display: none;\n",
              "    fill: var(--fill-color);\n",
              "    height: 32px;\n",
              "    padding: 0;\n",
              "    width: 32px;\n",
              "  }\n",
              "\n",
              "  .colab-df-quickchart:hover {\n",
              "    background-color: var(--hover-bg-color);\n",
              "    box-shadow: 0 1px 2px rgba(60, 64, 67, 0.3), 0 1px 3px 1px rgba(60, 64, 67, 0.15);\n",
              "    fill: var(--button-hover-fill-color);\n",
              "  }\n",
              "\n",
              "  .colab-df-quickchart-complete:disabled,\n",
              "  .colab-df-quickchart-complete:disabled:hover {\n",
              "    background-color: var(--disabled-bg-color);\n",
              "    fill: var(--disabled-fill-color);\n",
              "    box-shadow: none;\n",
              "  }\n",
              "\n",
              "  .colab-df-spinner {\n",
              "    border: 2px solid var(--fill-color);\n",
              "    border-color: transparent;\n",
              "    border-bottom-color: var(--fill-color);\n",
              "    animation:\n",
              "      spin 1s steps(1) infinite;\n",
              "  }\n",
              "\n",
              "  @keyframes spin {\n",
              "    0% {\n",
              "      border-color: transparent;\n",
              "      border-bottom-color: var(--fill-color);\n",
              "      border-left-color: var(--fill-color);\n",
              "    }\n",
              "    20% {\n",
              "      border-color: transparent;\n",
              "      border-left-color: var(--fill-color);\n",
              "      border-top-color: var(--fill-color);\n",
              "    }\n",
              "    30% {\n",
              "      border-color: transparent;\n",
              "      border-left-color: var(--fill-color);\n",
              "      border-top-color: var(--fill-color);\n",
              "      border-right-color: var(--fill-color);\n",
              "    }\n",
              "    40% {\n",
              "      border-color: transparent;\n",
              "      border-right-color: var(--fill-color);\n",
              "      border-top-color: var(--fill-color);\n",
              "    }\n",
              "    60% {\n",
              "      border-color: transparent;\n",
              "      border-right-color: var(--fill-color);\n",
              "    }\n",
              "    80% {\n",
              "      border-color: transparent;\n",
              "      border-right-color: var(--fill-color);\n",
              "      border-bottom-color: var(--fill-color);\n",
              "    }\n",
              "    90% {\n",
              "      border-color: transparent;\n",
              "      border-bottom-color: var(--fill-color);\n",
              "    }\n",
              "  }\n",
              "</style>\n",
              "\n",
              "  <script>\n",
              "    async function quickchart(key) {\n",
              "      const quickchartButtonEl =\n",
              "        document.querySelector('#' + key + ' button');\n",
              "      quickchartButtonEl.disabled = true;  // To prevent multiple clicks.\n",
              "      quickchartButtonEl.classList.add('colab-df-spinner');\n",
              "      try {\n",
              "        const charts = await google.colab.kernel.invokeFunction(\n",
              "            'suggestCharts', [key], {});\n",
              "      } catch (error) {\n",
              "        console.error('Error during call to suggestCharts:', error);\n",
              "      }\n",
              "      quickchartButtonEl.classList.remove('colab-df-spinner');\n",
              "      quickchartButtonEl.classList.add('colab-df-quickchart-complete');\n",
              "    }\n",
              "    (() => {\n",
              "      let quickchartButtonEl =\n",
              "        document.querySelector('#df-377e688b-f8cc-469b-a663-dd27749e6d97 button');\n",
              "      quickchartButtonEl.style.display =\n",
              "        google.colab.kernel.accessAllowed ? 'block' : 'none';\n",
              "    })();\n",
              "  </script>\n",
              "</div>\n",
              "\n",
              "  <div id=\"id_e9be2bae-9612-46c9-9a03-86578a505004\">\n",
              "    <style>\n",
              "      .colab-df-generate {\n",
              "        background-color: #E8F0FE;\n",
              "        border: none;\n",
              "        border-radius: 50%;\n",
              "        cursor: pointer;\n",
              "        display: none;\n",
              "        fill: #1967D2;\n",
              "        height: 32px;\n",
              "        padding: 0 0 0 0;\n",
              "        width: 32px;\n",
              "      }\n",
              "\n",
              "      .colab-df-generate:hover {\n",
              "        background-color: #E2EBFA;\n",
              "        box-shadow: 0px 1px 2px rgba(60, 64, 67, 0.3), 0px 1px 3px 1px rgba(60, 64, 67, 0.15);\n",
              "        fill: #174EA6;\n",
              "      }\n",
              "\n",
              "      [theme=dark] .colab-df-generate {\n",
              "        background-color: #3B4455;\n",
              "        fill: #D2E3FC;\n",
              "      }\n",
              "\n",
              "      [theme=dark] .colab-df-generate:hover {\n",
              "        background-color: #434B5C;\n",
              "        box-shadow: 0px 1px 3px 1px rgba(0, 0, 0, 0.15);\n",
              "        filter: drop-shadow(0px 1px 2px rgba(0, 0, 0, 0.3));\n",
              "        fill: #FFFFFF;\n",
              "      }\n",
              "    </style>\n",
              "    <button class=\"colab-df-generate\" onclick=\"generateWithVariable('df')\"\n",
              "            title=\"Generate code using this dataframe.\"\n",
              "            style=\"display:none;\">\n",
              "\n",
              "  <svg xmlns=\"http://www.w3.org/2000/svg\" height=\"24px\"viewBox=\"0 0 24 24\"\n",
              "       width=\"24px\">\n",
              "    <path d=\"M7,19H8.4L18.45,9,17,7.55,7,17.6ZM5,21V16.75L18.45,3.32a2,2,0,0,1,2.83,0l1.4,1.43a1.91,1.91,0,0,1,.58,1.4,1.91,1.91,0,0,1-.58,1.4L9.25,21ZM18.45,9,17,7.55Zm-12,3A5.31,5.31,0,0,0,4.9,8.1,5.31,5.31,0,0,0,1,6.5,5.31,5.31,0,0,0,4.9,4.9,5.31,5.31,0,0,0,6.5,1,5.31,5.31,0,0,0,8.1,4.9,5.31,5.31,0,0,0,12,6.5,5.46,5.46,0,0,0,6.5,12Z\"/>\n",
              "  </svg>\n",
              "    </button>\n",
              "    <script>\n",
              "      (() => {\n",
              "      const buttonEl =\n",
              "        document.querySelector('#id_e9be2bae-9612-46c9-9a03-86578a505004 button.colab-df-generate');\n",
              "      buttonEl.style.display =\n",
              "        google.colab.kernel.accessAllowed ? 'block' : 'none';\n",
              "\n",
              "      buttonEl.onclick = () => {\n",
              "        google.colab.notebook.generateWithVariable('df');\n",
              "      }\n",
              "      })();\n",
              "    </script>\n",
              "  </div>\n",
              "\n",
              "    </div>\n",
              "  </div>\n"
            ],
            "application/vnd.google.colaboratory.intrinsic+json": {
              "type": "dataframe",
              "variable_name": "df",
              "summary": "{\n  \"name\": \"df\",\n  \"rows\": 213,\n  \"fields\": [\n    {\n      \"column\": \"type_of_reference\",\n      \"properties\": {\n        \"dtype\": \"category\",\n        \"num_unique_values\": 2,\n        \"samples\": [\n          \"CONF\",\n          \"JOUR\"\n        ],\n        \"semantic_type\": \"\",\n        \"description\": \"\"\n      }\n    },\n    {\n      \"column\": \"authors\",\n      \"properties\": {\n        \"dtype\": \"string\",\n        \"num_unique_values\": 190,\n        \"samples\": [\n          \"M. Wagdy, F. Khaled, M. Saeed, H. Mansour, W. H. Gomaa\",\n          \"S. Forsyth, N. Mavridis\"\n        ],\n        \"semantic_type\": \"\",\n        \"description\": \"\"\n      }\n    },\n    {\n      \"column\": \"primary_title\",\n      \"properties\": {\n        \"dtype\": \"category\",\n        \"num_unique_values\": 78,\n        \"samples\": [\n          \"A Machine-Learning Algorithm for the Automated Perceptual Evaluation of Dysphonia Severity\",\n          \"Investigation of bias in the automated assessment of school violence\"\n        ],\n        \"semantic_type\": \"\",\n        \"description\": \"\"\n      }\n    },\n    {\n      \"column\": \"title\",\n      \"properties\": {\n        \"dtype\": \"string\",\n        \"num_unique_values\": 113,\n        \"samples\": [\n          \"Intelligent Decision Support System for Assessing Works with Free Response based on Production Model\",\n          \"Applying Blended Learning in Programming Courses\"\n        ],\n        \"semantic_type\": \"\",\n        \"description\": \"\"\n      }\n    },\n    {\n      \"column\": \"publication_year\",\n      \"properties\": {\n        \"dtype\": \"category\",\n        \"num_unique_values\": 77,\n        \"samples\": [\n          \"1 Aug. 2021\",\n          \"15-16 June 2021\"\n        ],\n        \"semantic_type\": \"\",\n        \"description\": \"\"\n      }\n    },\n    {\n      \"column\": \"year\",\n      \"properties\": {\n        \"dtype\": \"number\",\n        \"std\": 1,\n        \"min\": 2016,\n        \"max\": 2025,\n        \"num_unique_values\": 10,\n        \"samples\": [\n          2018,\n          2021\n        ],\n        \"semantic_type\": \"\",\n        \"description\": \"\"\n      }\n    },\n    {\n      \"column\": \"abstract\",\n      \"properties\": {\n        \"dtype\": \"string\",\n        \"num_unique_values\": 191,\n        \"samples\": [\n          \"Works with free response are usually used in training, as well as in engineering education. These works assessment faces a lot of challenges, especially in conditions of online learning. The use of criteria system underlies the formation of a score for work with free response. In the case of works like essays the assessment can be made without the participation of expert-tutor by means of automated essay scoring systems. In the other cases his engagement is required, and the assessment takes place usually manually with the use of a rubric. This procedure is very long and labour-intensive for tutors, particularly with the large number of works, which are to be assessed as quickly as possible. The challenge is further amplified by iterativeness of assessment procedure which is typical, for example, to term papers, productive and pre-diploma practice reports actively used in engineering education when students are as close as possible to real tasks implementation. Another question arises, because work assessment is carried out without consideration for work correction characteristics, that is why a formed score is inaccurate. A student work with free response assessment model based on production model that takes into account the efficiency of work correction made by student, and whose application allows to ease the formation of a score for work with free response, is proposed in the paper. The assessment model is implemented in an intelligent decision support system, which was used in assessing pre-diploma practice reports in Ufa State Aviation Technical University during online learning.\",\n          \"Deviating heart shapes and poor cardiac health is a recurring concern in farmed Atlantic salmon. Morphometric analysis has so far improved our understanding of salmonid cardiac morphology, but assessment of morphological cardiac variation is usually performed manually through measurements of lengths, ratios, and angles. Manual assessment of heart shape is tedious, time-consuming, and not very standardized. It also requires training and alignment of personnel to achieve reliable results. Considering these challenges, we aimed to automate this process using a deep learning model for computer vision to measure the morphological variations of the heart. Here we developed an algorithm for a diagnostic tool to detect variation in cardiac morphology in farmed Atlantic salmon, which we believe can assess cardiac morphological variation in a more objective, reproducible, and reliable manner compared to the manual process. The knowledge derived from this study may represent a crucial step in comprehending and eventually reducing cardiac abnormalities in farmed salmonids, which is essential for improving fish health and welfare and ensuring aquaculture's sustainable growth.\"\n        ],\n        \"semantic_type\": \"\",\n        \"description\": \"\"\n      }\n    }\n  ]\n}"
            }
          },
          "metadata": {},
          "execution_count": 12
        }
      ]
    },
    {
      "cell_type": "markdown",
      "source": [
        "**Proses Parsing**"
      ],
      "metadata": {
        "id": "fsrYQeH44UJF"
      }
    },
    {
      "cell_type": "code",
      "source": [
        "# Pastikan kolom yang akan diproses benar (misalnya 'text')\n",
        "text_column = 'primary_title'  # Ganti dengan nama kolom yang sesuai\n",
        "\n",
        "def preprocess_text(text):\n",
        "    if pd.isna(text):\n",
        "        return \"\"\n",
        "\n",
        "    text = text.lower()  # Lowercasing\n",
        "    text = re.sub(r'\\d+', '', text)  # Remove numbers\n",
        "    text = re.sub(r'[^a-zA-Z\\s]', '', text)  # Remove punctuation and special characters\n",
        "    words = word_tokenize(text)  # Tokenization\n",
        "    words = [word for word in words if word not in stopwords.words('english')]  # Remove stopwords\n",
        "    lemmatizer = WordNetLemmatizer()\n",
        "    words = [lemmatizer.lemmatize(word) for word in words]  # Lemmatization\n",
        "    return ' '.join(words)"
      ],
      "metadata": {
        "id": "tgtbuyqXhNDc"
      },
      "execution_count": 16,
      "outputs": []
    },
    {
      "cell_type": "code",
      "source": [
        "# Apply preprocessing\n",
        "df['primary_title'] = df[text_column].apply(preprocess_text)"
      ],
      "metadata": {
        "id": "b9FwmjkdhvBX"
      },
      "execution_count": 17,
      "outputs": []
    },
    {
      "cell_type": "code",
      "source": [
        "print(df['primary_title'])"
      ],
      "metadata": {
        "colab": {
          "base_uri": "https://localhost:8080/"
        },
        "id": "p1Y610fOJcWv",
        "outputId": "2c5434a0-5aca-4c9e-934b-825c265c66c2"
      },
      "execution_count": 18,
      "outputs": [
        {
          "output_type": "stream",
          "name": "stdout",
          "text": [
            "0      investigation bias automated assessment school...\n",
            "1      fast accurate incremental feedback student sof...\n",
            "2      design realization data mining simulation meth...\n",
            "3      social medium data reveals multiple cultural s...\n",
            "4      automatic questionanswer pair generation using...\n",
            "                             ...                        \n",
            "208    estrategia didctica con estudios de casos para...\n",
            "209    arascore investigating responsebased arabic sh...\n",
            "210    exploring student information problem solving ...\n",
            "211    classification accuracy efficiency writing scr...\n",
            "212    development arabic hqasbased asag consider ign...\n",
            "Name: primary_title, Length: 213, dtype: object\n"
          ]
        }
      ]
    },
    {
      "cell_type": "markdown",
      "source": [
        "**Proses Tokenisasi**"
      ],
      "metadata": {
        "id": "lDlnVUzK4yNw"
      }
    },
    {
      "cell_type": "code",
      "source": [
        "# Tokenisasi judul jurnal\n",
        "df[\"tokens\"] = df[\"primary_title\"].apply(word_tokenize)"
      ],
      "metadata": {
        "id": "Q16oUY3TmS5K"
      },
      "execution_count": 19,
      "outputs": []
    },
    {
      "cell_type": "code",
      "source": [
        "print(df)"
      ],
      "metadata": {
        "colab": {
          "base_uri": "https://localhost:8080/"
        },
        "id": "xMcgYddcmbSF",
        "outputId": "3e341317-a755-44ba-f032-306caeaec9a8"
      },
      "execution_count": null,
      "outputs": [
        {
          "output_type": "stream",
          "name": "stdout",
          "text": [
            "                                         primary_title  \\\n",
            "0    investigation bias automated assessment school...   \n",
            "1    fast accurate incremental feedback student sof...   \n",
            "2    design realization data mining simulation meth...   \n",
            "3    social medium data reveals multiple cultural s...   \n",
            "4    automatic questionanswer pair generation using...   \n",
            "..                                                 ...   \n",
            "208  estrategia didctica con estudios de casos para...   \n",
            "209  arascore investigating responsebased arabic sh...   \n",
            "210  exploring student information problem solving ...   \n",
            "211  classification accuracy efficiency writing scr...   \n",
            "212  development arabic hqasbased asag consider ign...   \n",
            "\n",
            "                                                tokens  \n",
            "0    [investigation, bias, automated, assessment, s...  \n",
            "1    [fast, accurate, incremental, feedback, studen...  \n",
            "2    [design, realization, data, mining, simulation...  \n",
            "3    [social, medium, data, reveals, multiple, cult...  \n",
            "4    [automatic, questionanswer, pair, generation, ...  \n",
            "..                                                 ...  \n",
            "208  [estrategia, didctica, con, estudios, de, caso...  \n",
            "209  [arascore, investigating, responsebased, arabi...  \n",
            "210  [exploring, student, information, problem, sol...  \n",
            "211  [classification, accuracy, efficiency, writing...  \n",
            "212  [development, arabic, hqasbased, asag, conside...  \n",
            "\n",
            "[213 rows x 2 columns]\n"
          ]
        }
      ]
    },
    {
      "cell_type": "markdown",
      "source": [
        "**STOPWORD**"
      ],
      "metadata": {
        "id": "sFfXJKjg5Ktc"
      }
    },
    {
      "cell_type": "code",
      "source": [
        "# Tokenisasi dan penghapusan stopwords\n",
        "def remove_stopwords(text):\n",
        "    words = word_tokenize(text)\n",
        "    return [word for word in words if word.lower() not in stop_words]\n",
        "\n",
        "    df[\"tokens\"] = df[\"primary_title\"].apply(remove_stopwords)"
      ],
      "metadata": {
        "id": "d18akZfK1fpt"
      },
      "execution_count": 20,
      "outputs": []
    },
    {
      "cell_type": "code",
      "source": [
        "print(df[\"tokens\"])"
      ],
      "metadata": {
        "colab": {
          "base_uri": "https://localhost:8080/"
        },
        "id": "lDPmkvnI1sLX",
        "outputId": "5cf8a027-2f57-4ca0-b9e2-d26e42d29d0b"
      },
      "execution_count": 21,
      "outputs": [
        {
          "output_type": "stream",
          "name": "stdout",
          "text": [
            "0      [investigation, bias, automated, assessment, s...\n",
            "1      [fast, accurate, incremental, feedback, studen...\n",
            "2      [design, realization, data, mining, simulation...\n",
            "3      [social, medium, data, reveals, multiple, cult...\n",
            "4      [automatic, questionanswer, pair, generation, ...\n",
            "                             ...                        \n",
            "208    [estrategia, didctica, con, estudios, de, caso...\n",
            "209    [arascore, investigating, responsebased, arabi...\n",
            "210    [exploring, student, information, problem, sol...\n",
            "211    [classification, accuracy, efficiency, writing...\n",
            "212    [development, arabic, hqasbased, asag, conside...\n",
            "Name: tokens, Length: 213, dtype: object\n"
          ]
        }
      ]
    },
    {
      "cell_type": "markdown",
      "source": [
        "**LEMMATIZATION**"
      ],
      "metadata": {
        "id": "TpUtazzu5QPA"
      }
    },
    {
      "cell_type": "code",
      "source": [
        "# Daftar stopwords dalam bahasa Inggris\n",
        "stop_words = set(stopwords.words('english'))\n",
        "lemmatizer = WordNetLemmatizer()"
      ],
      "metadata": {
        "id": "HQt6nV4U3SYb"
      },
      "execution_count": 22,
      "outputs": []
    },
    {
      "cell_type": "code",
      "source": [
        "# Lemmatization\n",
        "def lemmatize_text(text):\n",
        "    words = word_tokenize(text)\n",
        "    lemmatized_words = [lemmatizer.lemmatize(word) for word in words]\n",
        "    return lemmatized_words\n",
        "\n",
        "df[\"lemmatized\"] = df[\"primary_title\"].apply(lemmatize_text)"
      ],
      "metadata": {
        "id": "Mxtfc7ae4AbQ"
      },
      "execution_count": 23,
      "outputs": []
    },
    {
      "cell_type": "code",
      "source": [
        "# Menampilkan hanya kolom lemmatized\n",
        "print(df[\"lemmatized\"])"
      ],
      "metadata": {
        "colab": {
          "base_uri": "https://localhost:8080/"
        },
        "id": "iLpISLAp4JDo",
        "outputId": "f8bc122b-fa77-4779-a772-844fc9d8e5e2"
      },
      "execution_count": 24,
      "outputs": [
        {
          "output_type": "stream",
          "name": "stdout",
          "text": [
            "0      [investigation, bias, automated, assessment, s...\n",
            "1      [fast, accurate, incremental, feedback, studen...\n",
            "2      [design, realization, data, mining, simulation...\n",
            "3      [social, medium, data, reveals, multiple, cult...\n",
            "4      [automatic, questionanswer, pair, generation, ...\n",
            "                             ...                        \n",
            "208    [estrategia, didctica, con, estudios, de, caso...\n",
            "209    [arascore, investigating, responsebased, arabi...\n",
            "210    [exploring, student, information, problem, sol...\n",
            "211    [classification, accuracy, efficiency, writing...\n",
            "212    [development, arabic, hqasbased, asag, conside...\n",
            "Name: lemmatized, Length: 213, dtype: object\n"
          ]
        }
      ]
    },
    {
      "cell_type": "markdown",
      "source": [
        "**Menghitung Frekuensi Kata yang sering muncul**"
      ],
      "metadata": {
        "id": "fdICxbqCS1nG"
      }
    },
    {
      "cell_type": "code",
      "source": [
        "# Langkah 1: Import Counter dari collections\n",
        "from collections import Counter\n",
        "\n",
        "# Langkah 2: Menggabungkan semua token dari semua dokumen\n",
        "frekuensi_kata = [token for sublist in df['lemmatized'] for token in sublist]\n",
        "\n",
        "# Langkah 3: Menghitung frekuensi setiap kata\n",
        "word_frequencies = Counter(frekuensi_kata)\n",
        "\n",
        "# Langkah 4: Mengurutkan frekuensi kata dari terbesar ke terkecil\n",
        "sorted_frequencies = word_frequencies.most_common(20)\n",
        "\n",
        "# Langkah 5: Menampilkan hasil frekuensi kata\n",
        "print(\"\\nFrekuensi kata secara keseluruhan, diurutkan dari terbesar ke terkecil:\")\n",
        "for word, freq in sorted_frequencies:\n",
        "    print(f\"{word}: {freq}\")"
      ],
      "metadata": {
        "colab": {
          "base_uri": "https://localhost:8080/"
        },
        "id": "Sah-EtfOS7iZ",
        "outputId": "8c89604c-346e-42bb-c895-d3f78b428f4e"
      },
      "execution_count": 25,
      "outputs": [
        {
          "output_type": "stream",
          "name": "stdout",
          "text": [
            "\n",
            "Frekuensi kata secara keseluruhan, diurutkan dari terbesar ke terkecil:\n",
            "assessment: 28\n",
            "automated: 27\n",
            "using: 20\n",
            "writing: 16\n",
            "learning: 15\n",
            "student: 12\n",
            "model: 12\n",
            "evaluation: 12\n",
            "essay: 12\n",
            "automatic: 11\n",
            "language: 11\n",
            "feedback: 10\n",
            "text: 10\n",
            "scoring: 9\n",
            "system: 7\n",
            "artificial: 7\n",
            "complexity: 7\n",
            "arabic: 7\n",
            "generation: 6\n",
            "machine: 6\n"
          ]
        }
      ]
    },
    {
      "cell_type": "markdown",
      "source": [
        "**Menghitung Bobot TF-IDF**"
      ],
      "metadata": {
        "id": "OOEVeiQuSsr6"
      }
    },
    {
      "cell_type": "code",
      "source": [
        "from sklearn.feature_extraction.text import TfidfVectorizer\n",
        "\n",
        "# TF-IDF Weighting\n",
        "vectorizer = TfidfVectorizer()\n",
        "tfidf_matrix = vectorizer.fit_transform(df[\"primary_title\"])"
      ],
      "metadata": {
        "id": "Y6yBXo805vpY"
      },
      "execution_count": 31,
      "outputs": []
    },
    {
      "cell_type": "code",
      "source": [
        "# Menghitung jumlah skor TF-IDF untuk setiap kata\n",
        "word_scores = np.sum(tfidf_matrix.toarray(), axis=0)\n",
        "words = vectorizer.get_feature_names_out()\n",
        "word_tfidf = list(zip(words, word_scores))"
      ],
      "metadata": {
        "id": "y7uUPAD257Tb"
      },
      "execution_count": 39,
      "outputs": []
    },
    {
      "cell_type": "code",
      "source": [
        "# Menampilkan hasil TF-IDF\n",
        "print(word_tfidf)"
      ],
      "metadata": {
        "colab": {
          "base_uri": "https://localhost:8080/"
        },
        "id": "5If6uBlh59X9",
        "outputId": "5f47b041-b605-4ebd-919d-da2ddfa59963"
      },
      "execution_count": 40,
      "outputs": [
        {
          "output_type": "stream",
          "name": "stdout",
          "text": [
            "[('aaee', 0.518691622647167), ('abdominal', 0.3202273363026441), ('accuracy', 1.0788283116086759), ('accurate', 0.3278276428776633), ('acoustic', 0.4407314312316979), ('adaptation', 0.4322074581577338), ('adaptive', 0.36166616951186825), ('adherence', 0.6832873113811766), ('adolescent', 0.4611162975135796), ('adoption', 0.44131876464175984), ('adult', 0.24684210170700555), ('aes', 0.39692661385750666), ('age', 0.4407314312316979), ('ai', 1.3101295115358642), ('aigenerated', 0.2667126113196751), ('algorithm', 1.585973089904443), ('alloy', 0.35032429136585297), ('along', 0.3097781654139995), ('amongst', 0.29494966972780967), ('analysis', 0.3278276428776633), ('answer', 1.6121229356464744), ('applied', 0.28186939146995843), ('appraisal', 0.6111574523351027), ('approach', 1.0862012331399893), ('arabert', 0.8814660430252583), ('arabic', 2.307189551946546), ('arascore', 0.43657876678521784), ('architectural', 0.37402695153285276), ('argumentative', 0.603830574855237), ('artificial', 1.7958044256163532), ('asag', 0.3152422408294898), ('assesses', 0.3257117796581955), ('assessing', 1.2767760641023624), ('assessment', 6.149281287102852), ('assignment', 0.48023795256177815), ('assistant', 0.31039784212217714), ('assurance', 0.3259881901509902), ('asthma', 0.3257117796581955), ('atherosclerotic', 0.3202273363026441), ('atlantic', 0.3669241483915827), ('atrial', 0.37983792765717944), ('augmentation', 0.3779476748779224), ('augmented', 0.2698307453480244), ('automate', 0.28729056132144554), ('automated', 6.303665432321537), ('automatic', 3.2495067582848356), ('automating', 0.6871924990717392), ('awe', 0.31359433991143654), ('background', 0.3783387152155393), ('based', 1.5995734178117145), ('basis', 0.3258904979387024), ('battling', 0.33624844457824926), ('behaviour', 0.5880766824423985), ('benign', 0.258992317395931), ('better', 0.24013871323002714), ('bias', 1.2264371753839014), ('body', 0.7137806924681488), ('brazilian', 0.3097781654139995), ('bring', 0.2667126113196751), ('burden', 0.3202273363026441), ('busy', 0.28186939146995843), ('cantor', 0.35032429136585297), ('carcinoma', 0.27504108385952813), ('cardiac', 0.7069479496977515), ('cardiopulmonary', 0.39673716586016855), ('case', 0.4038419737188481), ('casos', 0.22360679774997894), ('cellular', 0.27504108385952813), ('childrens', 0.4407314312316979), ('chronic', 0.28186939146995843), ('class', 0.31359433991143654), ('classification', 1.0480997376451349), ('classroom', 0.2667126113196751), ('clinical', 0.5544669697916611), ('clinician', 0.3257117796581955), ('cliptfmultimodal', 0.4611162975135796), ('clnico', 0.22360679774997894), ('clustering', 0.28186939146995843), ('coastline', 0.3097781654139995), ('collected', 0.31527870336423086), ('comparison', 0.24684210170700555), ('compartment', 0.24684210170700555), ('complexity', 2.7021130336869605), ('composition', 0.7137806924681488), ('computer', 0.42119033815148077), ('con', 0.22360679774997894), ('concept', 0.5880766824423985), ('congenital', 0.31491870105904696), ('consider', 0.3152422408294898), ('constructed', 0.39692661385750666), ('continuous', 0.30959412883140996), ('contrastenhanced', 0.3202273363026441), ('counter', 0.35139719777678424), ('course', 0.7201806067245846), ('coursework', 0.47928567566254887), ('covid', 0.4322074581577338), ('cow', 0.30959412883140996), ('creativity', 0.7742694120304161), ('ct', 0.3202273363026441), ('cultural', 0.3097781654139995), ('dairy', 0.30959412883140996), ('data', 1.4885145179640429), ('datadriven', 0.34698430502216887), ('de', 0.44721359549995787), ('decomposition', 0.36166616951186825), ('deep', 0.8417479263976982), ('del', 0.22360679774997894), ('demystifying', 0.38987664723973686), ('desarrollo', 0.22360679774997894), ('design', 1.0341988842050451), ('detection', 0.8483826144283239), ('detrimental', 0.6111574523351027), ('development', 1.504052007089997), ('diagnose', 0.31491870105904696), ('dialogic', 0.39942490571928024), ('didctica', 0.22360679774997894), ('difference', 0.3258904979387024), ('differentiate', 0.258992317395931), ('digital', 0.3679211173222502), ('digitally', 0.28729056132144554), ('disease', 0.31491870105904696), ('disorder', 0.2698307453480244), ('document', 0.46460325925084955), ('drawing', 0.28186939146995843), ('dualimproved', 0.35070268744523675), ('dysfunction', 0.3944424330435043), ('dysphonia', 0.4309249886872275), ('earlystage', 1.0669118339364365), ('echocardiography', 0.6298374021180939), ('education', 1.2366155494853108), ('effect', 0.8352684733978952), ('efficiency', 1.0943099214270553), ('efl', 0.24013871323002714), ('el', 0.22360679774997894), ('electronic', 0.3257117796581955), ('elementaryage', 0.3753123935374566), ('embedded', 0.3783387152155393), ('embedding', 0.8814660430252583), ('emergency', 0.6111574523351027), ('emotion', 0.2667126113196751), ('en', 0.22360679774997894), ('enabling', 0.47928567566254887), ('energy', 0.3679211173222502), ('english', 0.9230948647848525), ('enhanced', 0.7739434298199086), ('entropy', 0.35032429136585297), ('equal', 0.24013871323002714), ('erevising', 0.40530989089519365), ('esl', 0.31359433991143654), ('essay', 3.333167943678901), ('essaybased', 0.44131876464175984), ('estimation', 0.24684210170700555), ('estrategia', 0.22360679774997894), ('estudiantes', 0.22360679774997894), ('estudio', 0.22360679774997894), ('estudios', 0.22360679774997894), ('evaluate', 0.410172841871124), ('evaluation', 3.305045771991427), ('evaluator', 0.39673716586016855), ('everyday', 0.36868328467392875), ('evidence', 1.2064218380554794), ('evidencebased', 0.5215175024633452), ('exam', 0.4038419737188481), ('examination', 1.5191998927529513), ('experienced', 0.3502845436041745), ('exploring', 0.9065786031113429), ('extraction', 0.8814660430252583), ('fair', 0.6111574523351027), ('fast', 0.3278276428776633), ('feature', 0.621632221812182), ('feedback', 2.6248214755867036), ('fetal', 0.31491870105904696), ('fibromyalgia', 0.28186939146995843), ('fibrosis', 0.37402695153285276), ('finegrained', 0.5880766824423985), ('foreign', 0.650792160156805), ('formal', 0.2698307453480244), ('formbased', 0.24013871323002714), ('four', 0.29494966972780967), ('fourier', 0.36166616951186825), ('frequency', 0.30959412883140996), ('fully', 0.2698307453480244), ('gamified', 0.42119033815148077), ('geef', 0.6945060649730271), ('generation', 1.7883853413919986), ('gpto', 0.39673716586016855), ('grading', 1.0950657330327784), ('ground', 0.33624844457824926), ('guideline', 0.3257117796581955), ('handwritten', 0.47928567566254887), ('health', 0.3257117796581955), ('healthy', 0.24684210170700555), ('heart', 0.6347415739108608), ('hepatic', 0.37402695153285276), ('hierarchical', 0.28186939146995843), ('high', 0.5482596959859087), ('higher', 0.6156268815339672), ('highstake', 0.6111574523351027), ('hip', 0.31527870336423086), ('holistic', 0.4629892483156802), ('honey', 0.35139719777678424), ('hqasbased', 0.3152422408294898), ('hybrid', 0.48023795256177815), ('hydraulic', 0.3679211173222502), ('identifies', 0.28186939146995843), ('identify', 0.30142366458388), ('ignored', 0.3152422408294898), ('immunohistochemical', 0.28729056132144554), ('impact', 0.3258904979387024), ('implementation', 0.31359433991143654), ('implication', 0.5644109966386814), ('improvement', 0.3259881901509902), ('improving', 0.3779476748779224), ('incoherent', 0.2698307453480244), ('increase', 0.2667126113196751), ('incremental', 0.3278276428776633), ('individual', 0.3258904979387024), ('influence', 0.31359433991143654), ('information', 0.5880766824423985), ('innovation', 0.34698430502216887), ('integrated', 0.3258904979387024), ('integrating', 0.6945060649730271), ('intelligence', 1.2909161807573826), ('intelligenceenabled', 0.7201806067245846), ('international', 0.29494966972780967), ('investigating', 0.6283491378353787), ('investigation', 0.9488029328396668), ('iot', 0.3783387152155393), ('judgment', 0.3502845436041745), ('kilometer', 0.3097781654139995), ('knee', 0.31527870336423086), ('knowledge', 0.8081054507302036), ('language', 3.0694709275275653), ('large', 1.2679086177722219), ('largescale', 1.1620358000372235), ('learner', 2.52926706190959), ('learning', 3.419832619748948), ('lesion', 0.258992317395931), ('literacy', 0.30142366458388), ('liver', 0.517984634791862), ('llm', 0.2667126113196751), ('lung', 0.27504108385952813), ('machine', 1.7707375137827461), ('machinelearning', 0.4309249886872275), ('malignant', 0.258992317395931), ('management', 0.4151494046472854), ('map', 0.5880766824423985), ('mathematical', 0.28729056132144554), ('matrix', 0.35139719777678424), ('meaningbased', 0.24013871323002714), ('measure', 0.3679211173222502), ('medicina', 0.22360679774997894), ('medium', 0.3097781654139995), ('method', 1.230039023060291), ('methodological', 0.42360961829464266), ('methodology', 0.29494966972780967), ('mining', 1.4861516071594074), ('mislabeling', 0.33624844457824926), ('misspelled', 0.3152422408294898), ('mobility', 0.35032429136585297), ('model', 3.1047596506401085), ('modelling', 0.28729056132144554), ('modified', 0.4151494046472854), ('modulated', 0.30959412883140996), ('monitoring', 0.30959412883140996), ('monoflorality', 0.35139719777678424), ('morphological', 0.3669241483915827), ('motivation', 0.2667126113196751), ('movement', 0.31527870336423086), ('mri', 0.258992317395931), ('multicenter', 0.27504108385952813), ('multimodal', 0.36166616951186825), ('multiple', 0.9564855797793952), ('multipledocument', 0.3258904979387024), ('multiplexed', 0.28729056132144554), ('mutation', 0.3278276428776633), ('nafld', 0.37402695153285276), ('national', 0.3259881901509902), ('natural', 0.30142366458388), ('need', 0.30142366458388), ('needlemanwunsch', 0.4151494046472854), ('network', 0.9644262579291365), ('neural', 0.9644262579291365), ('noncirrhotic', 0.258992317395931), ('noncontrast', 0.3202273363026441), ('nonsmall', 0.27504108385952813), ('novelty', 0.4038419737188481), ('nursing', 0.39692661385750666), ('online', 1.3067903150665614), ('openbook', 0.4322074581577338), ('orthodontic', 0.29494966972780967), ('orthopedic', 0.31039784212217714), ('pain', 0.28186939146995843), ('pair', 0.36159223981679833), ('pandemic', 0.4322074581577338), ('para', 0.22360679774997894), ('parameter', 0.35032429136585297), ('pathology', 0.31527870336423086), ('patient', 0.5977142070609867), ('pattern', 0.37402695153285276), ('perception', 0.31359433991143654), ('perceptual', 0.4309249886872275), ('performance', 1.4432724359991924), ('persuasive', 0.39942490571928024), ('plaque', 0.3202273363026441), ('policy', 0.3259881901509902), ('positive', 0.2667126113196751), ('postgraduate', 0.29494966972780967), ('poststroke', 0.4030915018861769), ('potential', 0.35139719777678424), ('practice', 0.5544669697916611), ('prediction', 0.4407314312316979), ('predictor', 0.27504108385952813), ('preliminar', 0.22360679774997894), ('presentationmode', 0.5481676180535063), ('pressure', 0.37983792765717944), ('pretrained', 0.36159223981679833), ('primary', 0.258992317395931), ('problem', 0.5880766824423985), ('procedure', 0.35032429136585297), ('processing', 0.30142366458388), ('processor', 0.3783387152155393), ('proficiency', 1.3686181943761955), ('profiling', 0.30142366458388), ('programming', 0.42119033815148077), ('proposal', 0.3506035520684767), ('provide', 0.4629892483156802), ('pulmonary', 0.36868328467392875), ('quality', 1.2128847103741491), ('quantification', 0.37402695153285276), ('questionanswer', 0.36159223981679833), ('radarbased', 0.30959412883140996), ('radiomic', 0.27504108385952813), ('radiomics', 0.258992317395931), ('rate', 0.629797575170792), ('razonamiento', 0.22360679774997894), ('reading', 0.3258904979387024), ('realization', 0.42360961829464266), ('reassessment', 0.35032429136585297), ('record', 0.3257117796581955), ('relationship', 0.5938508468092456), ('remodeling', 0.3944424330435043), ('representation', 0.2698307453480244), ('rereading', 0.46460325925084955), ('research', 0.6358783961422745), ('resident', 0.29494966972780967), ('respiration', 0.30959412883140996), ('response', 0.39692661385750666), ('responsebased', 0.43657876678521784), ('responsible', 0.6111574523351027), ('resuscitation', 0.39673716586016855), ('retrieval', 0.4611162975135796), ('retrospective', 0.27504108385952813), ('reveals', 0.3097781654139995), ('revision', 0.6239897332978216), ('right', 0.37983792765717944), ('road', 0.33624844457824926), ('robotic', 0.33624844457824926), ('role', 0.7402979644196082), ('sail', 0.31039784212217714), ('salar', 0.3669241483915827), ('salmo', 0.3669241483915827), ('salmon', 0.3669241483915827), ('sarscov', 0.6111574523351027), ('scan', 0.3202273363026441), ('school', 1.107779991188926), ('score', 0.3753123935374566), ('scoring', 2.9781653993197645), ('screening', 0.8159055170304209), ('search', 0.5880766824423985), ('second', 0.8140960266045537), ('secondary', 0.2667126113196751), ('selection', 0.34698430502216887), ('selective', 0.3278276428776633), ('sensor', 0.4030915018861769), ('service', 0.3097781654139995), ('severity', 0.4309249886872275), ('short', 1.6121229356464744), ('simulation', 0.42360961829464266), ('single', 0.28729056132144554), ('sittostand', 0.31527870336423086), ('skill', 1.24174508568642), ('sleep', 0.36166616951186825), ('smart', 0.4030915018861769), ('smartphonebased', 0.7043817891900185), ('social', 0.3097781654139995), ('socratic', 0.31039784212217714), ('software', 0.3278276428776633), ('solid', 0.258992317395931), ('solution', 0.34698430502216887), ('solving', 0.5880766824423985), ('source', 0.3258904979387024), ('speech', 0.2698307453480244), ('spine', 0.31527870336423086), ('stage', 0.36166616951186825), ('stain', 0.28729056132144554), ('status', 0.35070268744523675), ('stroma', 0.28729056132144554), ('structure', 0.410172841871124), ('student', 2.994570036486261), ('study', 0.9559089880984408), ('subjective', 0.48023795256177815), ('suitability', 0.39673716586016855), ('summarizing', 0.46460325925084955), ('support', 0.30142366458388), ('supporting', 0.7201806067245846), ('survey', 0.29494966972780967), ('survival', 0.27504108385952813), ('suture', 0.5117607842480651), ('suturing', 0.33624844457824926), ('system', 2.153000453545424), ('systemsupported', 0.31359433991143654), ('talk', 0.39942490571928024), ('tardis', 0.2698307453480244), ('task', 0.3258904979387024), ('teacher', 0.9333816560110741), ('technique', 0.34698430502216887), ('test', 0.3278276428776633), ('text', 3.582476864852483), ('texture', 0.3944424330435043), ('theme', 0.410172841871124), ('thought', 0.2698307453480244), ('timeseries', 0.2698307453480244), ('tool', 0.5880766824423985), ('transfer', 0.3779476748779224), ('translation', 0.3506035520684767), ('transparent', 0.6111574523351027), ('trauma', 0.4151494046472854), ('truth', 0.33624844457824926), ('tumoural', 0.28729056132144554), ('tweighted', 0.258992317395931), ('twin', 0.3679211173222502), ('ultrasonic', 0.3944424330435043), ('ultrasound', 0.37983792765717944), ('undiagnosed', 0.28186939146995843), ('university', 0.29494966972780967), ('usage', 0.44131876464175984), ('use', 0.6562198160665269), ('useful', 0.4629892483156802), ('using', 4.38043944433707), ('validity', 0.3753123935374566), ('variability', 0.36868328467392875), ('variation', 0.3669241483915827), ('versus', 0.7566437449568842), ('video', 0.37983792765717944), ('videotext', 0.4611162975135796), ('violence', 0.9488029328396668), ('virtual', 0.31039784212217714), ('visual', 0.24684210170700555), ('voice', 0.697442352611003), ('water', 0.3783387152155393), ('wave', 0.30959412883140996), ('wearable', 0.7166122289721274), ('web', 0.42119033815148077), ('word', 0.3152422408294898), ('writing', 4.110600203363698)]\n"
          ]
        }
      ]
    },
    {
      "cell_type": "code",
      "source": [
        "# Mengurutkan berdasarkan skor TF-IDF\n",
        "word_tfidf_sorted = sorted(word_tfidf, key=lambda x: x[1], reverse=True)\n",
        "\n",
        "most_common_words = word_tfidf_sorted[:20]\n",
        "for word, score in most_common_words:\n",
        "    print(f\"{word}: {score}\")"
      ],
      "metadata": {
        "colab": {
          "base_uri": "https://localhost:8080/"
        },
        "id": "G8JXv22u8cBD",
        "outputId": "78bb18e8-c858-44b5-f289-7dc3e0f11e20"
      },
      "execution_count": 41,
      "outputs": [
        {
          "output_type": "stream",
          "name": "stdout",
          "text": [
            "automated: 6.303665432321537\n",
            "assessment: 6.149281287102852\n",
            "using: 4.38043944433707\n",
            "writing: 4.110600203363698\n",
            "text: 3.582476864852483\n",
            "learning: 3.419832619748948\n",
            "essay: 3.333167943678901\n",
            "evaluation: 3.305045771991427\n",
            "automatic: 3.2495067582848356\n",
            "model: 3.1047596506401085\n",
            "language: 3.0694709275275653\n",
            "student: 2.994570036486261\n",
            "scoring: 2.9781653993197645\n",
            "complexity: 2.7021130336869605\n",
            "feedback: 2.6248214755867036\n",
            "learner: 2.52926706190959\n",
            "arabic: 2.307189551946546\n",
            "system: 2.153000453545424\n",
            "artificial: 1.7958044256163532\n",
            "generation: 1.7883853413919986\n"
          ]
        }
      ]
    },
    {
      "cell_type": "code",
      "source": [
        "import matplotlib.pyplot as plt\n",
        "import seaborn as sns\n",
        "from collections import Counter\n",
        "\n",
        "# Langkah 1: Import Counter dari collections\n",
        "from collections import Counter\n",
        "\n",
        "# Langkah 2: Menggabungkan semua token dari semua dokumen\n",
        "frekuensi_kata = [token for sublist in df['lemmatized'] for token in sublist]\n",
        "\n",
        "# Langkah 3: Menghitung frekuensi setiap kata\n",
        "word_frequencies = Counter(frekuensi_kata)\n",
        "\n",
        "# Langkah 4: Mengurutkan frekuensi kata dari terbesar ke terkecil\n",
        "sorted_frequencies = word_frequencies.most_common(20)\n",
        "\n",
        "# Ekstrak kata dan frekuensinya\n",
        "words, freqs = zip(*sorted_frequencies)\n",
        "\n",
        "# Langkah 6: Visualisasi data\n",
        "plt.figure(figsize=(12,6))\n",
        "sns.barplot(x=list(freqs), y=list(words), palette='viridis')\n",
        "plt.xlabel(\"Frekuensi\")\n",
        "plt.ylabel(\"Kata\")\n",
        "plt.title(\"20 Kata Paling Sering Muncul\")\n",
        "plt.show()\n",
        "\n",
        "# Menampilkan informasi tambahan\n",
        "total_dokumen = len(df)\n",
        "most_common_words = [word for word, freq in sorted_frequencies[:5]]\n",
        "\n",
        "# Menghitung TF-IDF\n",
        "tfidf_vectorizer = TfidfVectorizer()\n",
        "tfidf_matrix = tfidf_vectorizer.fit_transform([\" \".join(sublist) for sublist in df['lemmatized']])\n",
        "tfidf_scores = dict(zip(tfidf_vectorizer.get_feature_names_out(), tfidf_matrix.sum(axis=0).A1))\n",
        "sorted_tfidf = sorted(tfidf_scores.items(), key=lambda x: x[1], reverse=True)[:5]\n",
        "\n",
        "\n",
        "print()\n",
        "print(f\"Total Dokumen: {total_dokumen}\")\n",
        "print(f\"5 Kata Paling Sering Muncul: {most_common_words}\")\n",
        "print(f\"5 Kata dengan Bobot TF-IDF Tertinggi: {sorted_tfidf}\")\n"
      ],
      "metadata": {
        "colab": {
          "base_uri": "https://localhost:8080/",
          "height": 748
        },
        "id": "i-2MAArcVgeV",
        "outputId": "ecf7219e-87d0-4621-eb03-b654ca579853"
      },
      "execution_count": 42,
      "outputs": [
        {
          "output_type": "stream",
          "name": "stderr",
          "text": [
            "<ipython-input-42-5e4b95620411>:22: FutureWarning: \n",
            "\n",
            "Passing `palette` without assigning `hue` is deprecated and will be removed in v0.14.0. Assign the `y` variable to `hue` and set `legend=False` for the same effect.\n",
            "\n",
            "  sns.barplot(x=list(freqs), y=list(words), palette='viridis')\n"
          ]
        },
        {
          "output_type": "display_data",
          "data": {
            "text/plain": [
              "<Figure size 1200x600 with 1 Axes>"
            ],
            "image/png": "[encoded data removed]"
          },
          "metadata": {}
        },
        {
          "output_type": "stream",
          "name": "stdout",
          "text": [
            "\n",
            "Total Dokumen: 213\n",
            "5 Kata Paling Sering Muncul: ['assessment', 'automated', 'using', 'writing', 'learning']\n",
            "5 Kata dengan Bobot TF-IDF Tertinggi: [('automated', 6.303665432321537), ('assessment', 6.149281287102852), ('using', 4.38043944433707), ('writing', 4.110600203363698), ('text', 3.582476864852483)]\n"
          ]
        }
      ]
    },
    {
      "cell_type": "code",
      "source": [
        "pip install spacy"
      ],
      "metadata": {
        "colab": {
          "base_uri": "https://localhost:8080/"
        },
        "id": "KUTibjT423yb",
        "outputId": "74ad5837-7221-4af8-c055-115178d18748"
      },
      "execution_count": 43,
      "outputs": [
        {
          "output_type": "stream",
          "name": "stdout",
          "text": [
            "Requirement already satisfied: spacy in /usr/local/lib/python3.11/dist-packages (3.7.5)\n",
            "Requirement already satisfied: spacy-legacy<3.1.0,>=3.0.11 in /usr/local/lib/python3.11/dist-packages (from spacy) (3.0.12)\n",
            "Requirement already satisfied: spacy-loggers<2.0.0,>=1.0.0 in /usr/local/lib/python3.11/dist-packages (from spacy) (1.0.5)\n",
            "Requirement already satisfied: murmurhash<1.1.0,>=0.28.0 in /usr/local/lib/python3.11/dist-packages (from spacy) (1.0.12)\n",
            "Requirement already satisfied: cymem<2.1.0,>=2.0.2 in /usr/local/lib/python3.11/dist-packages (from spacy) (2.0.11)\n",
            "Requirement already satisfied: preshed<3.1.0,>=3.0.2 in /usr/local/lib/python3.11/dist-packages (from spacy) (3.0.9)\n",
            "Requirement already satisfied: thinc<8.3.0,>=8.2.2 in /usr/local/lib/python3.11/dist-packages (from spacy) (8.2.5)\n",
            "Requirement already satisfied: wasabi<1.2.0,>=0.9.1 in /usr/local/lib/python3.11/dist-packages (from spacy) (1.1.3)\n",
            "Requirement already satisfied: srsly<3.0.0,>=2.4.3 in /usr/local/lib/python3.11/dist-packages (from spacy) (2.5.1)\n",
            "Requirement already satisfied: catalogue<2.1.0,>=2.0.6 in /usr/local/lib/python3.11/dist-packages (from spacy) (2.0.10)\n",
            "Requirement already satisfied: weasel<0.5.0,>=0.1.0 in /usr/local/lib/python3.11/dist-packages (from spacy) (0.4.1)\n",
            "Requirement already satisfied: typer<1.0.0,>=0.3.0 in /usr/local/lib/python3.11/dist-packages (from spacy) (0.15.1)\n",
            "Requirement already satisfied: tqdm<5.0.0,>=4.38.0 in /usr/local/lib/python3.11/dist-packages (from spacy) (4.67.1)\n",
            "Requirement already satisfied: requests<3.0.0,>=2.13.0 in /usr/local/lib/python3.11/dist-packages (from spacy) (2.32.3)\n",
            "Requirement already satisfied: pydantic!=1.8,!=1.8.1,<3.0.0,>=1.7.4 in /usr/local/lib/python3.11/dist-packages (from spacy) (2.10.6)\n",
            "Requirement already satisfied: jinja2 in /usr/local/lib/python3.11/dist-packages (from spacy) (3.1.5)\n",
            "Requirement already satisfied: setuptools in /usr/local/lib/python3.11/dist-packages (from spacy) (75.1.0)\n",
            "Requirement already satisfied: packaging>=20.0 in /usr/local/lib/python3.11/dist-packages (from spacy) (24.2)\n",
            "Requirement already satisfied: langcodes<4.0.0,>=3.2.0 in /usr/local/lib/python3.11/dist-packages (from spacy) (3.5.0)\n",
            "Requirement already satisfied: numpy>=1.19.0 in /usr/local/lib/python3.11/dist-packages (from spacy) (1.26.4)\n",
            "Requirement already satisfied: language-data>=1.2 in /usr/local/lib/python3.11/dist-packages (from langcodes<4.0.0,>=3.2.0->spacy) (1.3.0)\n",
            "Requirement already satisfied: annotated-types>=0.6.0 in /usr/local/lib/python3.11/dist-packages (from pydantic!=1.8,!=1.8.1,<3.0.0,>=1.7.4->spacy) (0.7.0)\n",
            "Requirement already satisfied: pydantic-core==2.27.2 in /usr/local/lib/python3.11/dist-packages (from pydantic!=1.8,!=1.8.1,<3.0.0,>=1.7.4->spacy) (2.27.2)\n",
            "Requirement already satisfied: typing-extensions>=4.12.2 in /usr/local/lib/python3.11/dist-packages (from pydantic!=1.8,!=1.8.1,<3.0.0,>=1.7.4->spacy) (4.12.2)\n",
            "Requirement already satisfied: charset-normalizer<4,>=2 in /usr/local/lib/python3.11/dist-packages (from requests<3.0.0,>=2.13.0->spacy) (3.4.1)\n",
            "Requirement already satisfied: idna<4,>=2.5 in /usr/local/lib/python3.11/dist-packages (from requests<3.0.0,>=2.13.0->spacy) (3.10)\n",
            "Requirement already satisfied: urllib3<3,>=1.21.1 in /usr/local/lib/python3.11/dist-packages (from requests<3.0.0,>=2.13.0->spacy) (2.3.0)\n",
            "Requirement already satisfied: certifi>=2017.4.17 in /usr/local/lib/python3.11/dist-packages (from requests<3.0.0,>=2.13.0->spacy) (2025.1.31)\n",
            "Requirement already satisfied: blis<0.8.0,>=0.7.8 in /usr/local/lib/python3.11/dist-packages (from thinc<8.3.0,>=8.2.2->spacy) (0.7.11)\n",
            "Requirement already satisfied: confection<1.0.0,>=0.0.1 in /usr/local/lib/python3.11/dist-packages (from thinc<8.3.0,>=8.2.2->spacy) (0.1.5)\n",
            "Requirement already satisfied: click>=8.0.0 in /usr/local/lib/python3.11/dist-packages (from typer<1.0.0,>=0.3.0->spacy) (8.1.8)\n",
            "Requirement already satisfied: shellingham>=1.3.0 in /usr/local/lib/python3.11/dist-packages (from typer<1.0.0,>=0.3.0->spacy) (1.5.4)\n",
            "Requirement already satisfied: rich>=10.11.0 in /usr/local/lib/python3.11/dist-packages (from typer<1.0.0,>=0.3.0->spacy) (13.9.4)\n",
            "Requirement already satisfied: cloudpathlib<1.0.0,>=0.7.0 in /usr/local/lib/python3.11/dist-packages (from weasel<0.5.0,>=0.1.0->spacy) (0.20.0)\n",
            "Requirement already satisfied: smart-open<8.0.0,>=5.2.1 in /usr/local/lib/python3.11/dist-packages (from weasel<0.5.0,>=0.1.0->spacy) (7.1.0)\n",
            "Requirement already satisfied: MarkupSafe>=2.0 in /usr/local/lib/python3.11/dist-packages (from jinja2->spacy) (3.0.2)\n",
            "Requirement already satisfied: marisa-trie>=1.1.0 in /usr/local/lib/python3.11/dist-packages (from language-data>=1.2->langcodes<4.0.0,>=3.2.0->spacy) (1.2.1)\n",
            "Requirement already satisfied: markdown-it-py>=2.2.0 in /usr/local/lib/python3.11/dist-packages (from rich>=10.11.0->typer<1.0.0,>=0.3.0->spacy) (3.0.0)\n",
            "Requirement already satisfied: pygments<3.0.0,>=2.13.0 in /usr/local/lib/python3.11/dist-packages (from rich>=10.11.0->typer<1.0.0,>=0.3.0->spacy) (2.18.0)\n",
            "Requirement already satisfied: wrapt in /usr/local/lib/python3.11/dist-packages (from smart-open<8.0.0,>=5.2.1->weasel<0.5.0,>=0.1.0->spacy) (1.17.2)\n",
            "Requirement already satisfied: mdurl~=0.1 in /usr/local/lib/python3.11/dist-packages (from markdown-it-py>=2.2.0->rich>=10.11.0->typer<1.0.0,>=0.3.0->spacy) (0.1.2)\n"
          ]
        }
      ]
    },
    {
      "cell_type": "code",
      "source": [
        "import spacy\n",
        "import pandas as pd\n",
        "from collections import Counter\n",
        "\n",
        "# Pastikan model bahasa spaCy telah diunduh (misalnya, \"en_core_web_sm\" untuk bahasa Inggris)\n",
        "nlp = spacy.load(\"en_core_web_sm\")\n",
        "\n",
        "# Langkah 1: Menggabungkan semua teks menjadi satu dokumen\n",
        "text_corpus = \" \".join([\" \".join(tokens) for tokens in df['lemmatized']])\n",
        "\n",
        "# Langkah 2: Proses NER dengan spaCy\n",
        "doc = nlp(text_corpus)\n",
        "\n",
        "# Langkah 3: Mengambil entitas yang dikenali\n",
        "entities = [(ent.text, ent.label_) for ent in doc.ents]\n",
        "\n",
        "# Langkah 4: Menghitung frekuensi entitas\n",
        "entity_counts = Counter(entities)\n",
        "\n",
        "# Langkah 5: Mengurutkan entitas berdasarkan frekuensi\n",
        "sorted_entities = entity_counts.most_common(10)\n",
        "\n",
        "# Menampilkan hasil\n",
        "print(\"10 Entitas Paling Umum:\")\n",
        "for entity, freq in sorted_entities:\n",
        "    print(f\"{entity[0]} ({entity[1]}): {freq} kali\")"
      ],
      "metadata": {
        "colab": {
          "base_uri": "https://localhost:8080/"
        },
        "id": "56pXCNV528Sc",
        "outputId": "b2f81f66-f768-4ba9-ebdc-cdadb21895bc"
      },
      "execution_count": 49,
      "outputs": [
        {
          "output_type": "stream",
          "name": "stdout",
          "text": [
            "10 Entitas Paling Umum:\n",
            "arabic (NORP): 6 kali\n",
            "english (LANGUAGE): 2 kali\n",
            "second (ORDINAL): 2 kali\n",
            "kilometer (CARDINAL): 1 kali\n",
            "carcinoma multicenter (ORG): 1 kali\n",
            "stroma (PRODUCT): 1 kali\n",
            "aes (ORG): 1 kali\n",
            "arabic (LANGUAGE): 1 kali\n",
            "english (NORP): 1 kali\n",
            "four (CARDINAL): 1 kali\n"
          ]
        }
      ]
    }
  ]
}